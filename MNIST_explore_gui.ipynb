{
  "cells": [
    {
      "cell_type": "code",
      "source": [
        "from sklearn.datasets import fetch_openml\n",
        "import numpy as np\n",
        "\n",
        "# Fetch MNIST (70k samples, 784 features)\n",
        "mnist = fetch_openml('mnist_784', version=1, as_frame=False)\n",
        "X, y = mnist[\"data\"], mnist[\"target\"].astype(np.uint8)\n",
        "\n",
        "# Check shape\n",
        "print(X.shape, y.shape)  # (70000, 784)\n"
      ],
      "metadata": {
        "colab": {
          "base_uri": "https://localhost:8080/"
        },
        "id": "xxX3Rz3lRSLB",
        "outputId": "2c589fbb-d971-4197-ba89-c62201b390dd"
      },
      "execution_count": 1,
      "outputs": [
        {
          "output_type": "stream",
          "name": "stdout",
          "text": [
            "(70000, 784) (70000,)\n"
          ]
        }
      ]
    },
    {
      "cell_type": "code",
      "source": [
        "X_train, X_test = X[:60000], X[60000:]\n",
        "y_train, y_test = y[:60000], y[60000:]\n"
      ],
      "metadata": {
        "id": "XfMtB9OgRcCI"
      },
      "execution_count": 3,
      "outputs": []
    },
    {
      "cell_type": "code",
      "source": [
        "from sklearn.linear_model import SGDClassifier\n",
        "\n",
        "sgd_clf = SGDClassifier(loss='hinge', random_state=42)\n",
        "sgd_clf.fit(X_train, y_train)\n",
        "\n",
        "y_pred_sgd = sgd_clf.predict(X_test)\n"
      ],
      "metadata": {
        "id": "M1PDivPcRkQZ"
      },
      "execution_count": 4,
      "outputs": []
    },
    {
      "cell_type": "code",
      "source": [
        "from sklearn.ensemble import RandomForestClassifier\n",
        "\n",
        "rf_clf = RandomForestClassifier(n_estimators=100, random_state=42)\n",
        "rf_clf.fit(X_train, y_train)\n",
        "\n",
        "y_pred_rf = rf_clf.predict(X_test)\n"
      ],
      "metadata": {
        "id": "4jLmoHUJRneZ"
      },
      "execution_count": 7,
      "outputs": []
    },
    {
      "cell_type": "code",
      "source": [
        "from sklearn.metrics import confusion_matrix, classification_report, accuracy_score\n",
        "\n",
        "print(\"SGD Classifier Accuracy:\", accuracy_score(y_test, y_pred_sgd))\n",
        "print(confusion_matrix(y_test, y_pred_sgd))\n",
        "print(classification_report(y_test, y_pred_sgd))\n",
        "\n",
        "print(\"\\nRandom Forest Accuracy:\", accuracy_score(y_test, y_pred_rf))\n",
        "print(confusion_matrix(y_test, y_pred_rf))\n",
        "print(classification_report(y_test, y_pred_rf))\n"
      ],
      "metadata": {
        "colab": {
          "base_uri": "https://localhost:8080/"
        },
        "id": "4kML6RJaRp5a",
        "outputId": "2b19aa34-81d6-4039-b703-9b0d94658124"
      },
      "execution_count": 6,
      "outputs": [
        {
          "output_type": "stream",
          "name": "stdout",
          "text": [
            "SGD Classifier Accuracy: 0.874\n",
            "[[ 902    0    8   11    1   13    2    4   39    0]\n",
            " [   0 1095    2    3    0    2    4    1   28    0]\n",
            " [   1   10  803   69    6    4    4   10  122    3]\n",
            " [   0    1    6  931    1   21    3    7   35    5]\n",
            " [   2    2    9   15  778    4    2    9   62   99]\n",
            " [   6    2    1   71    3  709   12   12   67    9]\n",
            " [   5    3   12   13    5   21  854    0   45    0]\n",
            " [   0    3   18   20    3    4    1  919   18   42]\n",
            " [   3    5    2   30    4   43    5    5  872    5]\n",
            " [   3    5    2   33    7    5    0   20   57  877]]\n",
            "              precision    recall  f1-score   support\n",
            "\n",
            "           0       0.98      0.92      0.95       980\n",
            "           1       0.97      0.96      0.97      1135\n",
            "           2       0.93      0.78      0.85      1032\n",
            "           3       0.78      0.92      0.84      1010\n",
            "           4       0.96      0.79      0.87       982\n",
            "           5       0.86      0.79      0.83       892\n",
            "           6       0.96      0.89      0.93       958\n",
            "           7       0.93      0.89      0.91      1028\n",
            "           8       0.65      0.90      0.75       974\n",
            "           9       0.84      0.87      0.86      1009\n",
            "\n",
            "    accuracy                           0.87     10000\n",
            "   macro avg       0.89      0.87      0.87     10000\n",
            "weighted avg       0.89      0.87      0.88     10000\n",
            "\n",
            "\n",
            "Random Forest Accuracy: 0.9705\n",
            "[[ 971    0    0    0    0    2    3    1    3    0]\n",
            " [   0 1127    2    2    0    1    2    0    1    0]\n",
            " [   6    0 1002    5    3    0    3    8    5    0]\n",
            " [   1    0    9  972    0    9    0    9    8    2]\n",
            " [   1    0    0    0  955    0    5    1    4   16]\n",
            " [   5    1    1    9    2  860    5    2    5    2]\n",
            " [   7    3    0    0    3    3  937    0    5    0]\n",
            " [   1    4   20    2    0    0    0  990    2    9]\n",
            " [   4    0    6    7    5    5    5    4  930    8]\n",
            " [   7    6    2   12   12    1    0    4    4  961]]\n",
            "              precision    recall  f1-score   support\n",
            "\n",
            "           0       0.97      0.99      0.98       980\n",
            "           1       0.99      0.99      0.99      1135\n",
            "           2       0.96      0.97      0.97      1032\n",
            "           3       0.96      0.96      0.96      1010\n",
            "           4       0.97      0.97      0.97       982\n",
            "           5       0.98      0.96      0.97       892\n",
            "           6       0.98      0.98      0.98       958\n",
            "           7       0.97      0.96      0.97      1028\n",
            "           8       0.96      0.95      0.96       974\n",
            "           9       0.96      0.95      0.96      1009\n",
            "\n",
            "    accuracy                           0.97     10000\n",
            "   macro avg       0.97      0.97      0.97     10000\n",
            "weighted avg       0.97      0.97      0.97     10000\n",
            "\n"
          ]
        }
      ]
    },
    {
      "cell_type": "code",
      "source": [
        "import matplotlib.pyplot as plt\n",
        "\n",
        "# Find misclassified examples for SGD\n",
        "misclassified_idx = np.where(y_pred_sgd != y_test)[0]\n",
        "errors = np.abs(y_pred_sgd[misclassified_idx] - y_test[misclassified_idx])\n",
        "\n",
        "# Get worst ones (biggest mistakes)\n",
        "worst_idx = misclassified_idx[np.argsort(errors)[-10:]]\n",
        "\n",
        "plt.figure(figsize=(10, 4))\n",
        "for i, idx in enumerate(worst_idx):\n",
        "    image = X_test[idx].reshape(28, 28)\n",
        "    plt.subplot(2, 5, i + 1)\n",
        "    plt.imshow(image, cmap=\"gray\")\n",
        "    plt.title(f\"True: {y_test[idx]} Pred: {y_pred_sgd[idx]}\")\n",
        "    plt.axis(\"off\")\n",
        "plt.tight_layout()\n",
        "plt.show()\n"
      ],
      "metadata": {
        "colab": {
          "base_uri": "https://localhost:8080/",
          "height": 410
        },
        "id": "-Gt90Ku5RsJ_",
        "outputId": "3e41991d-309e-4d3b-a21e-4fc461893b84"
      },
      "execution_count": 8,
      "outputs": [
        {
          "output_type": "display_data",
          "data": {
            "text/plain": [
              "<Figure size 1000x400 with 10 Axes>"
            ],
            "image/png": "[encoded data removed]"
          },
          "metadata": {}
        }
      ]
    },
    {
      "cell_type": "code",
      "source": [
        "from sklearn.linear_model import SGDClassifier\n",
        "sgd = SGDClassifier(loss='hinge', random_state=42)\n",
        "sgd.fit(X_train, y_train)\n"
      ],
      "metadata": {
        "id": "WYODBHHPTgtu"
      },
      "execution_count": null,
      "outputs": []
    },
    {
      "cell_type": "code",
      "source": [
        "from sklearn.ensemble import RandomForestClassifier\n",
        "rf = RandomForestClassifier(n_estimators=100, random_state=42)\n",
        "rf.fit(X_train, y_train)\n"
      ],
      "metadata": {
        "id": "WixTrc1tTkLs"
      },
      "execution_count": null,
      "outputs": []
    },
    {
      "cell_type": "code",
      "source": [
        "import seaborn as sns\n",
        "import matplotlib.pyplot as plt\n",
        "import numpy as np\n",
        "\n",
        "# Confusion Matrix for SGD Classifier\n",
        "cm = confusion_matrix(y_test, y_pred_sgd)\n",
        "plt.figure(figsize=(10,8))\n",
        "sns.heatmap(cm, annot=True, fmt='d', cmap='Blues')\n",
        "plt.xlabel('Predicted')\n",
        "plt.ylabel('True')\n",
        "plt.title('SGD Classifier Confusion Matrix')\n",
        "plt.show()\n",
        "\n",
        "# See top 5 confusion pairs\n",
        "import pandas as pd\n",
        "cm_df = pd.DataFrame(cm)\n",
        "cm_df.values[[range(10)]*2] = 0  # zero out the diagonal\n",
        "print(\"Top Confusions:\\n\", cm_df.stack().sort_values(ascending=False).head(5))\n"
      ],
      "metadata": {
        "id": "_Ud1paJQTq_q"
      },
      "execution_count": null,
      "outputs": []
    },
    {
      "cell_type": "code",
      "source": [
        "pip install gradio"
      ],
      "metadata": {
        "colab": {
          "base_uri": "https://localhost:8080/"
        },
        "id": "49Q-AVLvVo6m",
        "outputId": "4a2330cd-b900-4675-f230-45222709653d"
      },
      "execution_count": 11,
      "outputs": [
        {
          "output_type": "stream",
          "name": "stdout",
          "text": [
            "Requirement already satisfied: gradio in /usr/local/lib/python3.11/dist-packages (5.31.0)\n",
            "Requirement already satisfied: aiofiles<25.0,>=22.0 in /usr/local/lib/python3.11/dist-packages (from gradio) (24.1.0)\n",
            "Requirement already satisfied: anyio<5.0,>=3.0 in /usr/local/lib/python3.11/dist-packages (from gradio) (4.9.0)\n",
            "Requirement already satisfied: fastapi<1.0,>=0.115.2 in /usr/local/lib/python3.11/dist-packages (from gradio) (0.115.13)\n",
            "Requirement already satisfied: ffmpy in /usr/local/lib/python3.11/dist-packages (from gradio) (0.6.0)\n",
            "Requirement already satisfied: gradio-client==1.10.1 in /usr/local/lib/python3.11/dist-packages (from gradio) (1.10.1)\n",
            "Requirement already satisfied: groovy~=0.1 in /usr/local/lib/python3.11/dist-packages (from gradio) (0.1.2)\n",
            "Requirement already satisfied: httpx>=0.24.1 in /usr/local/lib/python3.11/dist-packages (from gradio) (0.28.1)\n",
            "Requirement already satisfied: huggingface-hub>=0.28.1 in /usr/local/lib/python3.11/dist-packages (from gradio) (0.33.0)\n",
            "Requirement already satisfied: jinja2<4.0 in /usr/local/lib/python3.11/dist-packages (from gradio) (3.1.6)\n",
            "Requirement already satisfied: markupsafe<4.0,>=2.0 in /usr/local/lib/python3.11/dist-packages (from gradio) (3.0.2)\n",
            "Requirement already satisfied: numpy<3.0,>=1.0 in /usr/local/lib/python3.11/dist-packages (from gradio) (2.0.2)\n",
            "Requirement already satisfied: orjson~=3.0 in /usr/local/lib/python3.11/dist-packages (from gradio) (3.10.18)\n",
            "Requirement already satisfied: packaging in /usr/local/lib/python3.11/dist-packages (from gradio) (24.2)\n",
            "Requirement already satisfied: pandas<3.0,>=1.0 in /usr/local/lib/python3.11/dist-packages (from gradio) (2.2.2)\n",
            "Requirement already satisfied: pillow<12.0,>=8.0 in /usr/local/lib/python3.11/dist-packages (from gradio) (11.2.1)\n",
            "Requirement already satisfied: pydantic<2.12,>=2.0 in /usr/local/lib/python3.11/dist-packages (from gradio) (2.11.7)\n",
            "Requirement already satisfied: pydub in /usr/local/lib/python3.11/dist-packages (from gradio) (0.25.1)\n",
            "Requirement already satisfied: python-multipart>=0.0.18 in /usr/local/lib/python3.11/dist-packages (from gradio) (0.0.20)\n",
            "Requirement already satisfied: pyyaml<7.0,>=5.0 in /usr/local/lib/python3.11/dist-packages (from gradio) (6.0.2)\n",
            "Requirement already satisfied: ruff>=0.9.3 in /usr/local/lib/python3.11/dist-packages (from gradio) (0.12.0)\n",
            "Requirement already satisfied: safehttpx<0.2.0,>=0.1.6 in /usr/local/lib/python3.11/dist-packages (from gradio) (0.1.6)\n",
            "Requirement already satisfied: semantic-version~=2.0 in /usr/local/lib/python3.11/dist-packages (from gradio) (2.10.0)\n",
            "Requirement already satisfied: starlette<1.0,>=0.40.0 in /usr/local/lib/python3.11/dist-packages (from gradio) (0.46.2)\n",
            "Requirement already satisfied: tomlkit<0.14.0,>=0.12.0 in /usr/local/lib/python3.11/dist-packages (from gradio) (0.13.3)\n",
            "Requirement already satisfied: typer<1.0,>=0.12 in /usr/local/lib/python3.11/dist-packages (from gradio) (0.16.0)\n",
            "Requirement already satisfied: typing-extensions~=4.0 in /usr/local/lib/python3.11/dist-packages (from gradio) (4.14.0)\n",
            "Requirement already satisfied: uvicorn>=0.14.0 in /usr/local/lib/python3.11/dist-packages (from gradio) (0.34.3)\n",
            "Requirement already satisfied: fsspec in /usr/local/lib/python3.11/dist-packages (from gradio-client==1.10.1->gradio) (2025.3.2)\n",
            "Requirement already satisfied: websockets<16.0,>=10.0 in /usr/local/lib/python3.11/dist-packages (from gradio-client==1.10.1->gradio) (15.0.1)\n",
            "Requirement already satisfied: idna>=2.8 in /usr/local/lib/python3.11/dist-packages (from anyio<5.0,>=3.0->gradio) (3.10)\n",
            "Requirement already satisfied: sniffio>=1.1 in /usr/local/lib/python3.11/dist-packages (from anyio<5.0,>=3.0->gradio) (1.3.1)\n",
            "Requirement already satisfied: certifi in /usr/local/lib/python3.11/dist-packages (from httpx>=0.24.1->gradio) (2025.6.15)\n",
            "Requirement already satisfied: httpcore==1.* in /usr/local/lib/python3.11/dist-packages (from httpx>=0.24.1->gradio) (1.0.9)\n",
            "Requirement already satisfied: h11>=0.16 in /usr/local/lib/python3.11/dist-packages (from httpcore==1.*->httpx>=0.24.1->gradio) (0.16.0)\n",
            "Requirement already satisfied: filelock in /usr/local/lib/python3.11/dist-packages (from huggingface-hub>=0.28.1->gradio) (3.18.0)\n",
            "Requirement already satisfied: requests in /usr/local/lib/python3.11/dist-packages (from huggingface-hub>=0.28.1->gradio) (2.32.3)\n",
            "Requirement already satisfied: tqdm>=4.42.1 in /usr/local/lib/python3.11/dist-packages (from huggingface-hub>=0.28.1->gradio) (4.67.1)\n",
            "Requirement already satisfied: hf-xet<2.0.0,>=1.1.2 in /usr/local/lib/python3.11/dist-packages (from huggingface-hub>=0.28.1->gradio) (1.1.5)\n",
            "Requirement already satisfied: python-dateutil>=2.8.2 in /usr/local/lib/python3.11/dist-packages (from pandas<3.0,>=1.0->gradio) (2.9.0.post0)\n",
            "Requirement already satisfied: pytz>=2020.1 in /usr/local/lib/python3.11/dist-packages (from pandas<3.0,>=1.0->gradio) (2025.2)\n",
            "Requirement already satisfied: tzdata>=2022.7 in /usr/local/lib/python3.11/dist-packages (from pandas<3.0,>=1.0->gradio) (2025.2)\n",
            "Requirement already satisfied: annotated-types>=0.6.0 in /usr/local/lib/python3.11/dist-packages (from pydantic<2.12,>=2.0->gradio) (0.7.0)\n",
            "Requirement already satisfied: pydantic-core==2.33.2 in /usr/local/lib/python3.11/dist-packages (from pydantic<2.12,>=2.0->gradio) (2.33.2)\n",
            "Requirement already satisfied: typing-inspection>=0.4.0 in /usr/local/lib/python3.11/dist-packages (from pydantic<2.12,>=2.0->gradio) (0.4.1)\n",
            "Requirement already satisfied: click>=8.0.0 in /usr/local/lib/python3.11/dist-packages (from typer<1.0,>=0.12->gradio) (8.2.1)\n",
            "Requirement already satisfied: shellingham>=1.3.0 in /usr/local/lib/python3.11/dist-packages (from typer<1.0,>=0.12->gradio) (1.5.4)\n",
            "Requirement already satisfied: rich>=10.11.0 in /usr/local/lib/python3.11/dist-packages (from typer<1.0,>=0.12->gradio) (13.9.4)\n",
            "Requirement already satisfied: six>=1.5 in /usr/local/lib/python3.11/dist-packages (from python-dateutil>=2.8.2->pandas<3.0,>=1.0->gradio) (1.17.0)\n",
            "Requirement already satisfied: markdown-it-py>=2.2.0 in /usr/local/lib/python3.11/dist-packages (from rich>=10.11.0->typer<1.0,>=0.12->gradio) (3.0.0)\n",
            "Requirement already satisfied: pygments<3.0.0,>=2.13.0 in /usr/local/lib/python3.11/dist-packages (from rich>=10.11.0->typer<1.0,>=0.12->gradio) (2.19.2)\n",
            "Requirement already satisfied: charset-normalizer<4,>=2 in /usr/local/lib/python3.11/dist-packages (from requests->huggingface-hub>=0.28.1->gradio) (3.4.2)\n",
            "Requirement already satisfied: urllib3<3,>=1.21.1 in /usr/local/lib/python3.11/dist-packages (from requests->huggingface-hub>=0.28.1->gradio) (2.4.0)\n",
            "Requirement already satisfied: mdurl~=0.1 in /usr/local/lib/python3.11/dist-packages (from markdown-it-py>=2.2.0->rich>=10.11.0->typer<1.0,>=0.12->gradio) (0.1.2)\n"
          ]
        }
      ]
    },
    {
      "cell_type": "code",
      "source": [
        "import gradio as gr\n",
        "import numpy as np\n",
        "from PIL import Image\n",
        "from sklearn.datasets import fetch_openml\n",
        "from sklearn.linear_model import SGDClassifier\n",
        "\n",
        "# Load & train SGD\n",
        "mnist = fetch_openml('mnist_784', version=1, as_frame=False)\n",
        "X, y = mnist[\"data\"], mnist[\"target\"].astype(np.uint8)\n",
        "X_train, X_test = X[:60000], X[60000:]\n",
        "y_train, y_test = y[:60000], y[60000:]\n",
        "\n",
        "sgd_clf = SGDClassifier(loss=\"hinge\", random_state=42)\n",
        "sgd_clf.fit(X_train, y_train)\n",
        "\n",
        "# Process Sketchpad output safely\n",
        "def preprocess(img):\n",
        "    print(f\"Input shape: {np.array(img).shape}\")\n",
        "    img = Image.fromarray(img.astype(np.uint8))\n",
        "    img = img.convert(\"L\").resize((28, 28))\n",
        "    img_arr = 255 - np.array(img)\n",
        "    return img_arr.reshape(1, -1)\n",
        "\n",
        "def predict_digit(img):\n",
        "    try:\n",
        "        img_processed = preprocess(img)\n",
        "        pred = sgd_clf.predict(img_processed)[0]\n",
        "        return f\"Predicted digit: {pred}\"\n",
        "    except Exception as e:\n",
        "        return f\"Error: {e}\"\n",
        "\n",
        "demo = gr.Interface(\n",
        "    fn=predict_digit,\n",
        "    inputs=gr.Sketchpad(canvas_size=(28, 28)),\n",
        "    outputs=\"text\",\n",
        "    title=\"MNIST Digit Recognizer\",\n",
        "    description=\"Draw a digit (0-9) and get a prediction using SGD.\"\n",
        ")\n",
        "\n",
        "demo.launch()\n"
      ],
      "metadata": {
        "colab": {
          "base_uri": "https://localhost:8080/",
          "height": 646
        },
        "id": "jUgd7DExbAcH",
        "outputId": "6edc844a-4a74-4d2b-83f5-32976b212e09"
      },
      "execution_count": 15,
      "outputs": [
        {
          "output_type": "stream",
          "name": "stdout",
          "text": [
            "It looks like you are running Gradio on a hosted a Jupyter notebook. For the Gradio app to work, sharing must be enabled. Automatically setting `share=True` (you can turn this off by setting `share=False` in `launch()` explicitly).\n",
            "\n",
            "Colab notebook detected. To show errors in colab notebook, set debug=True in launch()\n",
            "* Running on public URL: https://fddaaafcfd7f14c15c.gradio.live\n",
            "\n",
            "This share link expires in 1 week. For free permanent hosting and GPU upgrades, run `gradio deploy` from the terminal in the working directory to deploy to Hugging Face Spaces (https://huggingface.co/spaces)\n"
          ]
        },
        {
          "output_type": "display_data",
          "data": {
            "text/plain": [
              "<IPython.core.display.HTML object>"
            ],
            "text/html": [
              "<div><iframe src=\"https://fddaaafcfd7f14c15c.gradio.live\" width=\"100%\" height=\"500\" allow=\"autoplay; camera; microphone; clipboard-read; clipboard-write;\" frameborder=\"0\" allowfullscreen></iframe></div>"
            ]
          },
          "metadata": {}
        },
        {
          "output_type": "execute_result",
          "data": {
            "text/plain": []
          },
          "metadata": {},
          "execution_count": 15
        }
      ]
    },
    {
      "cell_type": "code",
      "source": [
        "import gradio as gr\n",
        "import numpy as np\n",
        "from PIL import Image\n",
        "from sklearn.datasets import fetch_openml\n",
        "from sklearn.linear_model import SGDClassifier\n",
        "\n",
        "# Load & train SGD\n",
        "mnist = fetch_openml('mnist_784', version=1, as_frame=False)\n",
        "X, y = mnist[\"data\"], mnist[\"target\"].astype(np.uint8)\n",
        "X_train, X_test = X[:60000], X[60000:]\n",
        "y_train, y_test = y[:60000], y[60000:]\n",
        "\n",
        "sgd_clf = SGDClassifier(loss=\"hinge\", random_state=42)\n",
        "sgd_clf.fit(X_train, y_train)\n",
        "\n",
        "# Safe preprocessing with Sketchpad dict output\n",
        "def preprocess(img):\n",
        "    print(f\"Input type: {type(img)}\")\n",
        "    img_array = img[\"layers\"][0]  # ✅ fix: take first drawn layer\n",
        "    img = Image.fromarray(np.array(img_array).astype(np.uint8))\n",
        "    img = img.convert(\"L\").resize((28, 28))\n",
        "    img_arr = 255 - np.array(img)\n",
        "    return img_arr.reshape(1, -1)\n",
        "\n",
        "def predict_digit(img):\n",
        "    try:\n",
        "        img_processed = preprocess(img)\n",
        "        pred = sgd_clf.predict(img_processed)[0]\n",
        "        return f\"Predicted digit: {pred}\"\n",
        "    except Exception as e:\n",
        "        return f\"Error: {e}\"\n",
        "\n",
        "demo = gr.Interface(\n",
        "    fn=predict_digit,\n",
        "    inputs=gr.Sketchpad(canvas_size=(28, 28)),\n",
        "    outputs=\"text\",\n",
        "    title=\"MNIST Digit Recognizer\",\n",
        "    description=\"Draw a digit (0–9) and get a prediction using SGD.\"\n",
        ")\n",
        "\n",
        "demo.launch()\n"
      ],
      "metadata": {
        "colab": {
          "base_uri": "https://localhost:8080/",
          "height": 646
        },
        "id": "f7RmOg8FdjT7",
        "outputId": "0128ebe8-6550-420d-a198-28928edc6623"
      },
      "execution_count": 16,
      "outputs": [
        {
          "output_type": "stream",
          "name": "stdout",
          "text": [
            "It looks like you are running Gradio on a hosted a Jupyter notebook. For the Gradio app to work, sharing must be enabled. Automatically setting `share=True` (you can turn this off by setting `share=False` in `launch()` explicitly).\n",
            "\n",
            "Colab notebook detected. To show errors in colab notebook, set debug=True in launch()\n",
            "* Running on public URL: https://7290fde76c4dae56e7.gradio.live\n",
            "\n",
            "This share link expires in 1 week. For free permanent hosting and GPU upgrades, run `gradio deploy` from the terminal in the working directory to deploy to Hugging Face Spaces (https://huggingface.co/spaces)\n"
          ]
        },
        {
          "output_type": "display_data",
          "data": {
            "text/plain": [
              "<IPython.core.display.HTML object>"
            ],
            "text/html": [
              "<div><iframe src=\"https://7290fde76c4dae56e7.gradio.live\" width=\"100%\" height=\"500\" allow=\"autoplay; camera; microphone; clipboard-read; clipboard-write;\" frameborder=\"0\" allowfullscreen></iframe></div>"
            ]
          },
          "metadata": {}
        },
        {
          "output_type": "execute_result",
          "data": {
            "text/plain": []
          },
          "metadata": {},
          "execution_count": 16
        }
      ]
    }
  ],
  "metadata": {
    "accelerator": "TPU",
    "colab": {
      "gpuType": "V28",
      "provenance": []
    },
    "kernelspec": {
      "display_name": "Python 3",
      "name": "python3"
    },
    "language_info": {
      "name": "python"
    }
  },
  "nbformat": 4,
  "nbformat_minor": 0
}